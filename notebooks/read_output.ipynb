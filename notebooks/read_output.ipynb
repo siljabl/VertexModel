{
 "cells": [
  {
   "cell_type": "code",
   "execution_count": 2,
   "metadata": {},
   "outputs": [
    {
     "ename": "ImportError",
     "evalue": "Python version mismatch: module was compiled for Python 3.10, but the interpreter version is incompatible: 3.12.3 (main, Aug 14 2025, 17:47:21) [GCC 13.3.0].",
     "output_type": "error",
     "traceback": [
      "\u001b[0;31m---------------------------------------------------------------------------\u001b[0m",
      "\u001b[0;31mImportError\u001b[0m                               Traceback (most recent call last)",
      "Cell \u001b[0;32mIn[2], line 1\u001b[0m\n\u001b[0;32m----> 1\u001b[0m \u001b[38;5;28;01mfrom\u001b[39;00m \u001b[38;5;21;01mcells\u001b[39;00m\u001b[38;5;21;01m.\u001b[39;00m\u001b[38;5;21;01mbind\u001b[39;00m \u001b[38;5;28;01mimport\u001b[39;00m VertexModel\n\u001b[1;32m      3\u001b[0m \u001b[38;5;28;01mimport\u001b[39;00m \u001b[38;5;21;01mpickle\u001b[39;00m\n\u001b[1;32m      4\u001b[0m \u001b[38;5;28;01mimport\u001b[39;00m \u001b[38;5;21;01mnumpy\u001b[39;00m \u001b[38;5;28;01mas\u001b[39;00m \u001b[38;5;21;01mnp\u001b[39;00m\n",
      "\u001b[0;31mImportError\u001b[0m: Python version mismatch: module was compiled for Python 3.10, but the interpreter version is incompatible: 3.12.3 (main, Aug 14 2025, 17:47:21) [GCC 13.3.0]."
     ]
    }
   ],
   "source": [
    "from cells.bind import VertexModel\n",
    "\n",
    "import pickle\n",
    "import numpy as np\n",
    "import matplotlib.pyplot as plt"
   ]
  },
  {
   "cell_type": "code",
   "execution_count": null,
   "metadata": {},
   "outputs": [],
   "source": [
    "# path to data\n",
    "path_to_output = \"data/simulated/raw/init_nodivision_20250829_1438.p\""
   ]
  },
  {
   "cell_type": "code",
   "execution_count": null,
   "metadata": {},
   "outputs": [],
   "source": [
    "# load frames\n",
    "list_vm = []\n",
    "with open(\"vm_output.p\", \"rb\") as dump:\n",
    "    while True:\n",
    "        try:\n",
    "            vm = pickle.load(dump)\n",
    "            assert type(vm) is VertexModel  # check pickled object is a vertex model\n",
    "            if vm.time == 0: continue       # do not use first frame\n",
    "            list_vm += [vm]                 # append frame to list_vm\n",
    "        except EOFError:\n",
    "            break                           # stop when we have read the whole file\n"
   ]
  }
 ],
 "metadata": {
  "kernelspec": {
   "display_name": "Python 3",
   "language": "python",
   "name": "python3"
  },
  "language_info": {
   "codemirror_mode": {
    "name": "ipython",
    "version": 3
   },
   "file_extension": ".py",
   "mimetype": "text/x-python",
   "name": "python",
   "nbconvert_exporter": "python",
   "pygments_lexer": "ipython3",
   "version": "3.12.3"
  }
 },
 "nbformat": 4,
 "nbformat_minor": 2
}
