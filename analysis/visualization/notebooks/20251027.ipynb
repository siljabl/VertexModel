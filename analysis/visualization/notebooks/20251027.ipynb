{
 "cells": [
  {
   "cell_type": "code",
   "execution_count": 38,
   "metadata": {},
   "outputs": [],
   "source": [
    "import sys\n",
    "from pathlib import Path\n",
    "\n",
    "import numpy as np\n",
    "import matplotlib as mpl\n",
    "import matplotlib.pyplot as plt\n",
    "\n",
    "sys.path.append(\"analysis/visualization\")\n",
    "from plot_correlations import plot_correlation, sort_files, initialize_figure\n",
    "\n",
    "sys.path.append(\"exe/utils\")\n",
    "from vm_functions import hexagon_side\n",
    "\n",
    "sys.path.append(\"analysis/experimental\")\n",
    "from data_class import AutocorrelationData, SegmentationData"
   ]
  },
  {
   "cell_type": "code",
   "execution_count": 39,
   "metadata": {},
   "outputs": [],
   "source": [
    "class Namespace:\n",
    "    def __init__(self, **kwargs):\n",
    "        self.__dict__.update(kwargs)\n",
    "\n",
    "    def add(self, **kwargs):\n",
    "        self.__dict__.update(kwargs)\n",
    "\n",
    "    def remove(self, key):\n",
    "        del self[key]\n",
    "\n",
    "args = Namespace(legend='eta',\n",
    "                 cmap='plasma',\n",
    "                 outdir=\"results/\",\n",
    "                 xlim=9999,\n",
    "                 ylim=1.1,\n",
    "                 fmt=\"-\",\n",
    "                 units=\"sim\")"
   ]
  },
  {
   "cell_type": "code",
   "execution_count": 40,
   "metadata": {},
   "outputs": [
    {
     "name": "stdout",
     "output_type": "stream",
     "text": [
      "State loaded from ../MDCK_QPI/data/experimental/processed/holomonitor_20240516_A2-1/cell_props.p.\n",
      "State loaded from ../MDCK_QPI/data/experimental/processed/holomonitor_20240516_A2-1/cell_autocorr.p.\n",
      "State loaded from ../MDCK_QPI/data/experimental/processed/holomonitor_20240516_A2-1/field_autocorr.p.\n",
      "State loaded from ../MDCK_QPI/data/experimental/processed/holomonitor_20240301_B1-4/cell_props.p.\n",
      "State loaded from ../MDCK_QPI/data/experimental/processed/holomonitor_20240301_B1-4/cell_autocorr.p.\n"
     ]
    }
   ],
   "source": [
    "# Add experimental data\n",
    "paths = \"data/simulated/processed/averages/nodivision_pair\"\n",
    "dataset = \"holomonitor_20240516_A2-1\"\n",
    "\n",
    "cellprop = SegmentationData()\n",
    "cellprop.load(f\"../MDCK_QPI/data/experimental/processed/{dataset}/cell_props.p\")\n",
    "cellcorr  = AutocorrelationData(f\"../MDCK_QPI/data/experimental/processed/{dataset}/cell_autocorr.p\")\n",
    "fieldcorr = AutocorrelationData(f\"../MDCK_QPI/data/experimental/processed/{dataset}/field_autocorr.p\")\n",
    "cellcorr.log\n",
    "\n",
    "dataset_open  = \"holomonitor_20240301_B1-4\"\n",
    "cellprop_open = SegmentationData()\n",
    "cellprop_open.load(f\"../MDCK_QPI/data/experimental/processed/{dataset_open}/cell_props.p\")\n",
    "cellcorr_open = AutocorrelationData(f\"../MDCK_QPI/data/experimental/processed/{dataset_open}/cell_autocorr.p\")"
   ]
  },
  {
   "cell_type": "code",
   "execution_count": 41,
   "metadata": {},
   "outputs": [],
   "source": [
    "N_cells = np.sum(cellprop.A.mask==False, axis=1)\n",
    "A_cells = np.sum(cellprop.A, axis=1)\n",
    "density = 10**6 * N_cells / A_cells\n",
    "\n",
    "mask_density = (density > 1600) * (density < 1700)\n",
    "\n",
    "N_cells_open = np.sum(cellprop_open.A.mask==False, axis=1)\n",
    "A_cells_open = np.sum(cellprop_open.A, axis=1)\n",
    "density_open = 10**6 * N_cells_open / A_cells_open\n",
    "mask_density_open = (density_open > 1600) * (density_open < 1700)"
   ]
  },
  {
   "cell_type": "code",
   "execution_count": 128,
   "metadata": {},
   "outputs": [
    {
     "name": "stdout",
     "output_type": "stream",
     "text": [
      "State loaded from data/simulated/processed/averages/nodivision_pairdissipation_20251022_N30_L64_Lambda100_v0100_taup300_eta50.autocorr.\n",
      "State loaded from data/simulated/processed/averages/nodivision_pairdissipation_20251022_N30_L64_Lambda100_v0100_taup300_eta100.autocorr.\n",
      "State loaded from data/simulated/processed/averages/nodivision_pairdissipation_20251022_N30_L64_Lambda100_v0100_taup300_eta200.autocorr.\n",
      "State loaded from data/simulated/processed/averages/nodivision_pairdissipation_20251022_N30_L64_Lambda100_v0100_taup300_eta300.autocorr.\n",
      "State loaded from data/simulated/processed/averages/nodivision_pairdissipation_20251022_N30_L64_Lambda100_v0100_taup300_eta400.autocorr.\n"
     ]
    }
   ],
   "source": [
    "args.add(param=\"hh\", \n",
    "         var=\"r\")\n",
    "\n",
    "# Sort data sets by legend value\n",
    "files_list, labels_list = sort_files(paths, args.legend)\n",
    "\n",
    "# Define line colors\n",
    "cmap   = mpl.colormaps[args.cmap]\n",
    "colors = cmap(np.linspace(0.1, 0.9, len(files_list)))\n",
    "\n",
    "# Plot each data set\n",
    "fig = initialize_figure(args.param, args.var)\n",
    "for file, label, color in zip(files_list, labels_list, colors):\n",
    "\n",
    "    plot_correlation(file, label, color, args)"
   ]
  },
  {
   "cell_type": "code",
   "execution_count": 129,
   "metadata": {},
   "outputs": [
    {
     "data": {
      "text/plain": [
       "[<matplotlib.lines.Line2D at 0x7c981b824830>]"
      ]
     },
     "execution_count": 129,
     "metadata": {},
     "output_type": "execute_result"
    }
   ],
   "source": [
    "V0 = np.mean(cellprop.A * cellprop.h)\n",
    "r6 = hexagon_side(V0)\n",
    "\n",
    "plt.plot(fieldcorr.r_array[\"hh\"] / r6, np.ma.mean(fieldcorr.spatial[\"hh\"][mask_density], axis=0), 'r-.', label=\"field\")\n",
    "plt.plot(cellcorr.r_array[\"hh\"] / r6,  np.ma.mean(cellcorr.spatial[\"hh\"][mask_density], axis=0),  'k-o', label=\"cell\")\n",
    "plt.plot(cellcorr_open.r_array[\"hh\"] / r6,  np.ma.mean(cellcorr_open.spatial[\"hh\"][mask_density_open], axis=0),  'b-s', label=\"open\")"
   ]
  },
  {
   "cell_type": "code",
   "execution_count": 130,
   "metadata": {},
   "outputs": [],
   "source": [
    "fig.legend()\n",
    "fig.savefig(\"spatial_correlation_hh.png\")"
   ]
  },
  {
   "cell_type": "code",
   "execution_count": 131,
   "metadata": {},
   "outputs": [
    {
     "name": "stdout",
     "output_type": "stream",
     "text": [
      "State loaded from data/simulated/processed/averages/nodivision_pairdissipation_20251022_N30_L64_Lambda100_v0100_taup300_eta50.autocorr.\n",
      "State loaded from data/simulated/processed/averages/nodivision_pairdissipation_20251022_N30_L64_Lambda100_v0100_taup300_eta100.autocorr.\n",
      "State loaded from data/simulated/processed/averages/nodivision_pairdissipation_20251022_N30_L64_Lambda100_v0100_taup300_eta200.autocorr.\n",
      "State loaded from data/simulated/processed/averages/nodivision_pairdissipation_20251022_N30_L64_Lambda100_v0100_taup300_eta300.autocorr.\n",
      "State loaded from data/simulated/processed/averages/nodivision_pairdissipation_20251022_N30_L64_Lambda100_v0100_taup300_eta400.autocorr.\n"
     ]
    }
   ],
   "source": [
    "args.add(param=\"hh\", \n",
    "         var=\"t\")\n",
    "\n",
    "# Sort data sets by legend value\n",
    "files_list, labels_list = sort_files(paths, args.legend)\n",
    "\n",
    "# Define line colors\n",
    "cmap   = mpl.colormaps[args.cmap]\n",
    "colors = cmap(np.linspace(0.1, 0.9, len(files_list)))\n",
    "\n",
    "# Plot each data set\n",
    "fig = initialize_figure(args.param, args.var)\n",
    "for file, label, color in zip(files_list, labels_list, colors):\n",
    "\n",
    "    plot_correlation(file, label, color, args)"
   ]
  },
  {
   "cell_type": "code",
   "execution_count": 132,
   "metadata": {},
   "outputs": [
    {
     "data": {
      "text/plain": [
       "[<matplotlib.lines.Line2D at 0x7c981ae9ca70>]"
      ]
     },
     "execution_count": 132,
     "metadata": {},
     "output_type": "execute_result"
    }
   ],
   "source": [
    "plt.plot(fieldcorr.t_array[\"hh\"], np.ma.mean(fieldcorr.temporal[\"hh\"][mask_density], axis=0), 'r-.', label=\"field\")\n",
    "plt.plot(cellcorr.t_array[\"hh\"],  np.ma.mean(cellcorr.temporal[\"hh\"][mask_density], axis=0),  'k--', label=\"cell\")\n",
    "plt.plot(cellcorr_open.t_array[\"hh\"],  np.ma.mean(cellcorr_open.temporal[\"hh\"][mask_density_open], axis=0),  'b-s', label=\"open\")"
   ]
  },
  {
   "cell_type": "code",
   "execution_count": 133,
   "metadata": {},
   "outputs": [],
   "source": [
    "#plt.xlim(-1, 60)\n",
    "fig.legend()\n",
    "fig.savefig(\"temporal_correlation_hh.png\")"
   ]
  },
  {
   "cell_type": "code",
   "execution_count": 134,
   "metadata": {},
   "outputs": [
    {
     "name": "stdout",
     "output_type": "stream",
     "text": [
      "State loaded from data/simulated/processed/averages/nodivision_pairdissipation_20251022_N30_L64_Lambda100_v0100_taup300_eta50.autocorr.\n",
      "State loaded from data/simulated/processed/averages/nodivision_pairdissipation_20251022_N30_L64_Lambda100_v0100_taup300_eta100.autocorr.\n",
      "State loaded from data/simulated/processed/averages/nodivision_pairdissipation_20251022_N30_L64_Lambda100_v0100_taup300_eta200.autocorr.\n",
      "State loaded from data/simulated/processed/averages/nodivision_pairdissipation_20251022_N30_L64_Lambda100_v0100_taup300_eta300.autocorr.\n",
      "State loaded from data/simulated/processed/averages/nodivision_pairdissipation_20251022_N30_L64_Lambda100_v0100_taup300_eta400.autocorr.\n"
     ]
    }
   ],
   "source": [
    "args.add(param=\"vv\", \n",
    "         var=\"r\")\n",
    "\n",
    "# Sort data sets by legend value\n",
    "files_list, labels_list = sort_files(paths, args.legend)\n",
    "\n",
    "# Define line colors\n",
    "cmap   = mpl.colormaps[args.cmap]\n",
    "colors = cmap(np.linspace(0.1, 0.9, len(files_list)))\n",
    "\n",
    "# Plot each data set\n",
    "fig = initialize_figure(args.param, args.var)\n",
    "for file, label, color in zip(files_list, labels_list, colors):\n",
    "\n",
    "    plot_correlation(file, label, color, args)"
   ]
  },
  {
   "cell_type": "code",
   "execution_count": 135,
   "metadata": {},
   "outputs": [
    {
     "data": {
      "text/plain": [
       "[<matplotlib.lines.Line2D at 0x7c981af1ed80>]"
      ]
     },
     "execution_count": 135,
     "metadata": {},
     "output_type": "execute_result"
    }
   ],
   "source": [
    "plt.plot(fieldcorr.r_array[\"vv\"] / r6, np.ma.mean(fieldcorr.spatial[\"vv\"][mask_density],     axis=0), 'r-.', label=\"field\")\n",
    "plt.plot(cellcorr.r_array[\"vv\"] / r6,  np.ma.mean(cellcorr.spatial[\"vv\"][mask_density[:-1]], axis=0), 'k--', label=\"cell\")\n",
    "plt.plot(cellcorr_open.r_array[\"vv\"] / r6,  np.ma.mean(cellcorr_open.spatial[\"vv\"][mask_density_open[:-1]], axis=0), 'b-s', label=\"open\")"
   ]
  },
  {
   "cell_type": "code",
   "execution_count": 136,
   "metadata": {},
   "outputs": [],
   "source": [
    "fig.legend()\n",
    "fig.savefig(\"spatial_correlation_vv.png\")"
   ]
  },
  {
   "cell_type": "code",
   "execution_count": 42,
   "metadata": {},
   "outputs": [
    {
     "name": "stdout",
     "output_type": "stream",
     "text": [
      "State loaded from data/simulated/processed/averages/nodivision_pairdissipation_20251022_N30_L64_Lambda100_v0100_taup300_eta50.autocorr.\n",
      "0.2422239485366462\n",
      "State loaded from data/simulated/processed/averages/nodivision_pairdissipation_20251022_N30_L64_Lambda100_v0100_taup300_eta100.autocorr.\n"
     ]
    },
    {
     "ename": "KeyboardInterrupt",
     "evalue": "",
     "output_type": "error",
     "traceback": [
      "\u001b[31m---------------------------------------------------------------------------\u001b[39m",
      "\u001b[31mKeyboardInterrupt\u001b[39m                         Traceback (most recent call last)",
      "\u001b[36mCell\u001b[39m\u001b[36m \u001b[39m\u001b[32mIn[42]\u001b[39m\u001b[32m, line 15\u001b[39m\n\u001b[32m     12\u001b[39m fig = initialize_figure(args.param, args)\n\u001b[32m     13\u001b[39m \u001b[38;5;28;01mfor\u001b[39;00m file, label, color \u001b[38;5;129;01min\u001b[39;00m \u001b[38;5;28mzip\u001b[39m(files_list, labels_list, colors):\n\u001b[32m---> \u001b[39m\u001b[32m15\u001b[39m     \u001b[43mplot_correlation\u001b[49m\u001b[43m(\u001b[49m\u001b[43mfile\u001b[49m\u001b[43m,\u001b[49m\u001b[43m \u001b[49m\u001b[43mlabel\u001b[49m\u001b[43m,\u001b[49m\u001b[43m \u001b[49m\u001b[43mcolor\u001b[49m\u001b[43m,\u001b[49m\u001b[43m \u001b[49m\u001b[43margs\u001b[49m\u001b[43m)\u001b[49m\n",
      "\u001b[36mFile \u001b[39m\u001b[32m~/Documents/VertexModel/analysis/visualization/plot_correlations.py:161\u001b[39m, in \u001b[36mplot_correlation\u001b[39m\u001b[34m(path, label, color, args)\u001b[39m\n\u001b[32m    155\u001b[39m     plt.plot(x[(x <= args.xlim) * (y <= args.ylim)], y[(x <= args.xlim) * (y <= args.ylim)],\n\u001b[32m    156\u001b[39m                 args.fmt,\n\u001b[32m    157\u001b[39m                 color=color,\n\u001b[32m    158\u001b[39m                 label=label)\n\u001b[32m    160\u001b[39m \u001b[38;5;28;01melse\u001b[39;00m:\n\u001b[32m--> \u001b[39m\u001b[32m161\u001b[39m     vmean = \u001b[43mcompute_average_displacement\u001b[49m\u001b[43m(\u001b[49m\u001b[43mpath\u001b[49m\u001b[43m)\u001b[49m\n\u001b[32m    162\u001b[39m     \u001b[38;5;66;03m# Get persistence time\u001b[39;00m\n\u001b[32m    164\u001b[39m     \u001b[38;5;28;01mif\u001b[39;00m args.units == \u001b[33m\"\u001b[39m\u001b[33msim\u001b[39m\u001b[33m\"\u001b[39m:\n",
      "\u001b[36mFile \u001b[39m\u001b[32m~/Documents/VertexModel/analysis/visualization/plot_correlations.py:113\u001b[39m, in \u001b[36mcompute_average_displacement\u001b[39m\u001b[34m(file)\u001b[39m\n\u001b[32m    110\u001b[39m path = glob.glob(\u001b[33mf\u001b[39m\u001b[33m\"\u001b[39m\u001b[33mdata/simulated/raw/\u001b[39m\u001b[38;5;132;01m{\u001b[39;00mfname\u001b[38;5;132;01m}\u001b[39;00m\u001b[33m/*\u001b[39m\u001b[33m\"\u001b[39m)[\u001b[32m0\u001b[39m]\n\u001b[32m    112\u001b[39m \u001b[38;5;66;03m# load raw data\u001b[39;00m\n\u001b[32m--> \u001b[39m\u001b[32m113\u001b[39m list_vm,_ = \u001b[43mvm_output\u001b[49m\u001b[43m.\u001b[49m\u001b[43mload\u001b[49m\u001b[43m(\u001b[49m\u001b[43mpath\u001b[49m\u001b[43m)\u001b[49m\n\u001b[32m    115\u001b[39m \u001b[38;5;66;03m# extract cell positions\u001b[39;00m\n\u001b[32m    116\u001b[39m cell_positions = vm_output.get_cell_positions(list_vm)\n",
      "\u001b[36mFile \u001b[39m\u001b[32m~/Documents/VertexModel/analysis/utils/vm_output_handling.py:16\u001b[39m, in \u001b[36mload\u001b[39m\u001b[34m(file, init_time)\u001b[39m\n\u001b[32m     14\u001b[39m \u001b[38;5;28;01mwhile\u001b[39;00m \u001b[38;5;28;01mTrue\u001b[39;00m:\n\u001b[32m     15\u001b[39m     \u001b[38;5;28;01mtry\u001b[39;00m:\n\u001b[32m---> \u001b[39m\u001b[32m16\u001b[39m         vm = \u001b[43mpickle\u001b[49m\u001b[43m.\u001b[49m\u001b[43mload\u001b[49m\u001b[43m(\u001b[49m\u001b[43mdump\u001b[49m\u001b[43m)\u001b[49m\n\u001b[32m     17\u001b[39m         \u001b[38;5;28;01massert\u001b[39;00m \u001b[38;5;28mtype\u001b[39m(vm) \u001b[38;5;129;01mis\u001b[39;00m VertexModel  \u001b[38;5;66;03m# check pickled object is a vertex model\u001b[39;00m\n\u001b[32m     19\u001b[39m         vm.nintegrate(\u001b[32m1\u001b[39m,\u001b[32m0\u001b[39m)              \u001b[38;5;66;03m# integrate so output corresponds to correct frame/timestep \u001b[39;00m\n",
      "\u001b[31mKeyboardInterrupt\u001b[39m: "
     ]
    }
   ],
   "source": [
    "args.add(param=\"vv\", \n",
    "         var=\"t\")\n",
    "\n",
    "# Sort data sets by legend value\n",
    "files_list, labels_list = sort_files(paths, args.legend)\n",
    "\n",
    "# Define line colors\n",
    "cmap   = mpl.colormaps[args.cmap]\n",
    "colors = cmap(np.linspace(0.1, 0.9, len(files_list)))\n",
    "\n",
    "# Plot each data set\n",
    "fig = initialize_figure(args.param, args)\n",
    "for file, label, color in zip(files_list, labels_list, colors):\n",
    "\n",
    "    plot_correlation(file, label, color, args)"
   ]
  },
  {
   "cell_type": "code",
   "execution_count": null,
   "metadata": {},
   "outputs": [
    {
     "data": {
      "text/plain": [
       "[<matplotlib.lines.Line2D at 0x74790475c860>]"
      ]
     },
     "execution_count": 33,
     "metadata": {},
     "output_type": "execute_result"
    }
   ],
   "source": [
    "plt.plot(fieldcorr.t_array[\"vv\"], np.ma.mean(fieldcorr.temporal[\"vv\"][mask_density[:-1]],axis=0), 'r-.', label=\"field\")\n",
    "plt.plot(cellcorr.t_array[\"vv\"],  np.ma.mean(cellcorr.temporal[\"vv\"][mask_density[:-1]], axis=0), 'k--', label=\"cell\")\n",
    "plt.plot(cellcorr_open.t_array[\"vv\"],  np.ma.mean(cellcorr_open.temporal[\"vv\"][mask_density_open[:-1]], axis=0), 'b-s', label=\"cell\")\n",
    "#plt.xscale(\"log\")"
   ]
  },
  {
   "cell_type": "code",
   "execution_count": null,
   "metadata": {},
   "outputs": [],
   "source": [
    "# plt.xlim(-1, 25)\n",
    "fig.legend()\n",
    "fig.savefig(\"temporal_correlation_vv.png\")"
   ]
  },
  {
   "cell_type": "code",
   "execution_count": 140,
   "metadata": {},
   "outputs": [],
   "source": [
    "for i in range(100):\n",
    "    plt.plot(cellcorr.t_array[\"hh\"],  cellcorr.temporal[\"hh\"][i],  'k-.', label=\"exp, Lagrange\")\n",
    "fig.savefig(\"test.png\")"
   ]
  },
  {
   "cell_type": "code",
   "execution_count": 19,
   "metadata": {},
   "outputs": [],
   "source": [
    "from scipy.optimize import curve_fit\n",
    "\n",
    "plt.plot(fieldcorr.t_array[\"vv\"], np.ma.mean(fieldcorr.temporal[\"vv\"], axis=0), 'r-.', label=\"exp, Euler\")\n",
    "\n",
    "def func(t, A, taup):\n",
    "    return 0.65*np.exp(-t/taup) + A"
   ]
  },
  {
   "cell_type": "code",
   "execution_count": 20,
   "metadata": {},
   "outputs": [
    {
     "data": {
      "text/plain": [
       "(array([ 0.40790916, 10.65904959]),\n",
       " array([[ 7.51198022e-05, -3.93258056e-03],\n",
       "        [-3.93258056e-03,  2.17329724e-01]]))"
      ]
     },
     "execution_count": 20,
     "metadata": {},
     "output_type": "execute_result"
    }
   ],
   "source": [
    "param, pop = curve_fit(func, cellcorr.t_array[\"hh\"][1:25], np.mean(cellcorr.temporal[\"hh\"], axis=0)[1:25], p0=[0.06, 6])\n",
    "param, pop"
   ]
  },
  {
   "cell_type": "code",
   "execution_count": 21,
   "metadata": {},
   "outputs": [
    {
     "data": {
      "text/plain": [
       "[<matplotlib.lines.Line2D at 0x72cb6e13df10>]"
      ]
     },
     "execution_count": 21,
     "metadata": {},
     "output_type": "execute_result"
    }
   ],
   "source": [
    "plt.figure()\n",
    "plt.plot(fieldcorr.t_array[\"vv\"][:25],  np.mean(fieldcorr.temporal[\"vv\"], axis=0)[:25],  'k-.', label=\"exp, Lagrange\")\n",
    "plt.plot(fieldcorr.t_array[\"vv\"], func(fieldcorr.t_array[\"vv\"], *param))\n",
    "plt.plot(fieldcorr.t_array[\"vv\"], func(fieldcorr.t_array[\"vv\"], 0.07, 6))"
   ]
  },
  {
   "cell_type": "code",
   "execution_count": 22,
   "metadata": {},
   "outputs": [],
   "source": [
    "plt.savefig(\"test.png\")"
   ]
  },
  {
   "cell_type": "code",
   "execution_count": null,
   "metadata": {},
   "outputs": [],
   "source": []
  }
 ],
 "metadata": {
  "kernelspec": {
   "display_name": "venv",
   "language": "python",
   "name": "python3"
  },
  "language_info": {
   "codemirror_mode": {
    "name": "ipython",
    "version": 3
   },
   "file_extension": ".py",
   "mimetype": "text/x-python",
   "name": "python",
   "nbconvert_exporter": "python",
   "pygments_lexer": "ipython3",
   "version": "3.12.3"
  }
 },
 "nbformat": 4,
 "nbformat_minor": 2
}
