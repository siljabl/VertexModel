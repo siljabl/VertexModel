{
 "cells": [
  {
   "cell_type": "code",
   "execution_count": 1,
   "metadata": {},
   "outputs": [],
   "source": [
    "import sys\n",
    "from pathlib import Path\n",
    "\n",
    "import numpy as np\n",
    "import matplotlib as mpl\n",
    "import matplotlib.pyplot as plt\n",
    "\n",
    "sys.path.append(\"analysis/visualization\")\n",
    "from plot_correlations import plot_correlation, sort_files, initialize_figure\n",
    "\n",
    "sys.path.append(\"exe/utils\")\n",
    "from vm_functions import hexagon_side\n",
    "\n",
    "sys.path.append(\"analysis/experimental\")\n",
    "from data_class import AutocorrelationData, SegmentationData"
   ]
  },
  {
   "cell_type": "code",
   "execution_count": 2,
   "metadata": {},
   "outputs": [],
   "source": [
    "class Namespace:\n",
    "    def __init__(self, **kwargs):\n",
    "        self.__dict__.update(kwargs)\n",
    "\n",
    "    def add(self, **kwargs):\n",
    "        self.__dict__.update(kwargs)\n",
    "\n",
    "    def remove(self, key):\n",
    "        del self[key]\n",
    "\n",
    "args = Namespace(legend='taup',\n",
    "                 cmap='plasma',\n",
    "                 outdir=\"results/\",\n",
    "                 xlim=9999,\n",
    "                 ylim=1.1,\n",
    "                 fmt=\"-\")"
   ]
  },
  {
   "cell_type": "code",
   "execution_count": null,
   "metadata": {},
   "outputs": [
    {
     "name": "stdout",
     "output_type": "stream",
     "text": [
      "State loaded from ../MDCK_QPI/data/experimental/processed/holomonitor_20240516_A2-1/cell_props.p.\n",
      "State loaded from ../MDCK_QPI/data/experimental/processed/holomonitor_20240516_A2-1/cell_autocorr.p.\n",
      "State loaded from ../MDCK_QPI/data/experimental/processed/holomonitor_20240516_A2-1/field_autocorr.p.\n",
      "State loaded from ../MDCK_QPI/data/experimental/processed/holomonitor_20240301_B1-4/cell_autocorr.p.\n"
     ]
    },
    {
     "ename": "AttributeError",
     "evalue": "'AutocorrelationData' object has no attribute 'density'",
     "output_type": "error",
     "traceback": [
      "\u001b[31m---------------------------------------------------------------------------\u001b[39m",
      "\u001b[31mAttributeError\u001b[39m                            Traceback (most recent call last)",
      "\u001b[36mCell\u001b[39m\u001b[36m \u001b[39m\u001b[32mIn[85]\u001b[39m\u001b[32m, line 13\u001b[39m\n\u001b[32m     11\u001b[39m dataset_open  = \u001b[33m\"\u001b[39m\u001b[33mholomonitor_20240301_B1-4\u001b[39m\u001b[33m\"\u001b[39m\n\u001b[32m     12\u001b[39m cellcorr_open = AutocorrelationData(\u001b[33mf\u001b[39m\u001b[33m\"\u001b[39m\u001b[33m../MDCK_QPI/data/experimental/processed/\u001b[39m\u001b[38;5;132;01m{\u001b[39;00mdataset_open\u001b[38;5;132;01m}\u001b[39;00m\u001b[33m/cell_autocorr.p\u001b[39m\u001b[33m\"\u001b[39m)\n\u001b[32m---> \u001b[39m\u001b[32m13\u001b[39m \u001b[43mcellcorr_open\u001b[49m\u001b[43m.\u001b[49m\u001b[43mdensity\u001b[49m\n",
      "\u001b[31mAttributeError\u001b[39m: 'AutocorrelationData' object has no attribute 'density'"
     ]
    }
   ],
   "source": [
    "# Add experimental data\n",
    "paths = \"data/simulated/processed/averages/nodivision_2025\"\n",
    "dataset = \"holomonitor_20240516_A2-1\"\n",
    "\n",
    "cellprop = SegmentationData()\n",
    "cellprop.load(f\"../MDCK_QPI/data/experimental/processed/{dataset}/cell_props.p\")\n",
    "cellcorr  = AutocorrelationData(f\"../MDCK_QPI/data/experimental/processed/{dataset}/cell_autocorr.p\")\n",
    "fieldcorr = AutocorrelationData(f\"../MDCK_QPI/data/experimental/processed/{dataset}/field_autocorr.p\")\n",
    "cellcorr.log\n",
    "\n",
    "dataset_open  = \"holomonitor_20240301_B1-4\"\n",
    "cellcorr_open = AutocorrelationData(f\"../MDCK_QPI/data/experimental/processed/{dataset_open}/cell_autocorr.p\")"
   ]
  },
  {
   "cell_type": "code",
   "execution_count": 84,
   "metadata": {},
   "outputs": [
    {
     "ename": "AttributeError",
     "evalue": "'AutocorrelationData' object has no attribute 'density'",
     "output_type": "error",
     "traceback": [
      "\u001b[31m---------------------------------------------------------------------------\u001b[39m",
      "\u001b[31mAttributeError\u001b[39m                            Traceback (most recent call last)",
      "\u001b[36mCell\u001b[39m\u001b[36m \u001b[39m\u001b[32mIn[84]\u001b[39m\u001b[32m, line 6\u001b[39m\n\u001b[32m      3\u001b[39m density = \u001b[32m10\u001b[39m**\u001b[32m6\u001b[39m * N_cells / A_cells\n\u001b[32m      5\u001b[39m mask_density = (density > \u001b[32m1600\u001b[39m) * (density < \u001b[32m1700\u001b[39m)\n\u001b[32m----> \u001b[39m\u001b[32m6\u001b[39m mask_density_open = (\u001b[43mcellcorr_open\u001b[49m\u001b[43m.\u001b[49m\u001b[43mdensity\u001b[49m > \u001b[32m1600\u001b[39m) * (cellcorr_open.density < \u001b[32m1700\u001b[39m)\n",
      "\u001b[31mAttributeError\u001b[39m: 'AutocorrelationData' object has no attribute 'density'"
     ]
    }
   ],
   "source": [
    "N_cells = np.sum(cellprop.A.mask==False, axis=1)\n",
    "A_cells = np.sum(cellprop.A, axis=1)\n",
    "density = 10**6 * N_cells / A_cells\n",
    "\n",
    "mask_density = (density > 1600) * (density < 1700)\n",
    "mask_density_open = (cellcorr_open.density > 1600) * (cellcorr_open.density < 1700)"
   ]
  },
  {
   "cell_type": "code",
   "execution_count": 82,
   "metadata": {},
   "outputs": [
    {
     "name": "stdout",
     "output_type": "stream",
     "text": [
      "State loaded from data/simulated/processed/averages/nodivision_20250919_N30_L64_Lambda100_v0100_taup100.autocorr.\n",
      "State loaded from data/simulated/processed/averages/nodivision_20250919_N30_L64_Lambda100_v0100_taup150.autocorr.\n",
      "State loaded from data/simulated/processed/averages/nodivision_20250919_N30_L64_Lambda100_v0100_taup200.autocorr.\n",
      "State loaded from data/simulated/processed/averages/nodivision_20250919_N30_L64_Lambda100_v0100_taup250.autocorr.\n",
      "State loaded from data/simulated/processed/averages/nodivision_20250919_N30_L64_Lambda100_v0100_taup300.autocorr.\n",
      "State loaded from data/simulated/processed/averages/nodivision_20250919_N30_L64_Lambda100_v0100_taup350.autocorr.\n",
      "State loaded from data/simulated/processed/averages/nodivision_20250919_N30_L64_Lambda100_v0100_taup400.autocorr.\n",
      "State loaded from data/simulated/processed/averages/nodivision_20250919_N30_L64_Lambda100_v0100_taup450.autocorr.\n"
     ]
    }
   ],
   "source": [
    "args.add(param=\"hh\", \n",
    "         var=\"r\")\n",
    "\n",
    "# Sort data sets by legend value\n",
    "files_list, labels_list = sort_files(paths, args.legend)\n",
    "\n",
    "# Define line colors\n",
    "cmap   = mpl.colormaps[args.cmap]\n",
    "colors = cmap(np.linspace(0.1, 0.9, len(files_list)))\n",
    "\n",
    "# Plot each data set\n",
    "fig = initialize_figure(args.param, args.var)\n",
    "for file, label, color in zip(files_list, labels_list, colors):\n",
    "\n",
    "    plot_correlation(file, label, color, args)"
   ]
  },
  {
   "cell_type": "code",
   "execution_count": null,
   "metadata": {},
   "outputs": [
    {
     "data": {
      "text/plain": [
       "[<matplotlib.lines.Line2D at 0x7c9822479a00>]"
      ]
     },
     "execution_count": 83,
     "metadata": {},
     "output_type": "execute_result"
    }
   ],
   "source": [
    "V0 = np.mean(cellprop.A * cellprop.h)\n",
    "r6 = hexagon_side(V0)\n",
    "\n",
    "plt.plot(fieldcorr.r_array[\"hh\"] / r6, np.ma.mean(fieldcorr.spatial[\"hh\"][mask_density], axis=0), 'r-.', label=\"field\")\n",
    "plt.plot(cellcorr.r_array[\"hh\"] / r6,  np.ma.mean(cellcorr.spatial[\"hh\"][mask_density], axis=0),  'k--', label=\"cell\")\n",
    "plt.plot(cellcorr_open.r_array[\"hh\"] / r6,  np.ma.mean(cellcorr_open.spatial[\"hh\"][mask_density_open], axis=0),  'k--', label=\"cell\")"
   ]
  },
  {
   "cell_type": "code",
   "execution_count": 40,
   "metadata": {},
   "outputs": [],
   "source": [
    "fig.legend()\n",
    "fig.savefig(\"spatial_correlation_hh.png\")"
   ]
  },
  {
   "cell_type": "code",
   "execution_count": 41,
   "metadata": {},
   "outputs": [
    {
     "name": "stdout",
     "output_type": "stream",
     "text": [
      "State loaded from data/simulated/processed/averages/nodivision_20250919_N30_L64_Lambda100_v0100_taup100.autocorr.\n",
      "State loaded from data/simulated/processed/averages/nodivision_20250919_N30_L64_Lambda100_v0100_taup150.autocorr.\n",
      "State loaded from data/simulated/processed/averages/nodivision_20250919_N30_L64_Lambda100_v0100_taup200.autocorr.\n",
      "State loaded from data/simulated/processed/averages/nodivision_20250919_N30_L64_Lambda100_v0100_taup250.autocorr.\n",
      "State loaded from data/simulated/processed/averages/nodivision_20250919_N30_L64_Lambda100_v0100_taup300.autocorr.\n",
      "State loaded from data/simulated/processed/averages/nodivision_20250919_N30_L64_Lambda100_v0100_taup350.autocorr.\n",
      "State loaded from data/simulated/processed/averages/nodivision_20250919_N30_L64_Lambda100_v0100_taup400.autocorr.\n",
      "State loaded from data/simulated/processed/averages/nodivision_20250919_N30_L64_Lambda100_v0100_taup450.autocorr.\n"
     ]
    }
   ],
   "source": [
    "\n",
    "args.add(param=\"hh\", \n",
    "         var=\"t\")\n",
    "\n",
    "# Sort data sets by legend value\n",
    "files_list, labels_list = sort_files(paths, args.legend)\n",
    "\n",
    "# Define line colors\n",
    "cmap   = mpl.colormaps[args.cmap]\n",
    "colors = cmap(np.linspace(0.1, 0.9, len(files_list)))\n",
    "\n",
    "# Plot each data set\n",
    "fig = initialize_figure(args.param, args.var)\n",
    "for file, label, color in zip(files_list, labels_list, colors):\n",
    "\n",
    "    plot_correlation(file, label, color, args)"
   ]
  },
  {
   "cell_type": "code",
   "execution_count": 42,
   "metadata": {},
   "outputs": [
    {
     "data": {
      "text/plain": [
       "[<matplotlib.lines.Line2D at 0x7c9829d98530>]"
      ]
     },
     "execution_count": 42,
     "metadata": {},
     "output_type": "execute_result"
    }
   ],
   "source": [
    "plt.plot(fieldcorr.t_array[\"hh\"], np.ma.mean(fieldcorr.temporal[\"hh\"][mask_density], axis=0), 'r-.', label=\"field\")\n",
    "plt.plot(cellcorr.t_array[\"hh\"],  np.ma.mean(cellcorr.temporal[\"hh\"][mask_density], axis=0),  'k--', label=\"cell\")"
   ]
  },
  {
   "cell_type": "code",
   "execution_count": 43,
   "metadata": {},
   "outputs": [],
   "source": [
    "#plt.xlim(-1, 60)\n",
    "fig.legend()\n",
    "fig.savefig(\"temporal_correlation_hh.png\")"
   ]
  },
  {
   "cell_type": "code",
   "execution_count": 66,
   "metadata": {},
   "outputs": [
    {
     "name": "stdout",
     "output_type": "stream",
     "text": [
      "State loaded from data/simulated/processed/averages/nodivision_20250919_N30_L64_Lambda100_v0100_taup100.autocorr.\n",
      "State loaded from data/simulated/processed/averages/nodivision_20250919_N30_L64_Lambda100_v0100_taup150.autocorr.\n",
      "State loaded from data/simulated/processed/averages/nodivision_20250919_N30_L64_Lambda100_v0100_taup200.autocorr.\n",
      "State loaded from data/simulated/processed/averages/nodivision_20250919_N30_L64_Lambda100_v0100_taup250.autocorr.\n",
      "State loaded from data/simulated/processed/averages/nodivision_20250919_N30_L64_Lambda100_v0100_taup300.autocorr.\n",
      "State loaded from data/simulated/processed/averages/nodivision_20250919_N30_L64_Lambda100_v0100_taup350.autocorr.\n",
      "State loaded from data/simulated/processed/averages/nodivision_20250919_N30_L64_Lambda100_v0100_taup400.autocorr.\n",
      "State loaded from data/simulated/processed/averages/nodivision_20250919_N30_L64_Lambda100_v0100_taup450.autocorr.\n"
     ]
    }
   ],
   "source": [
    "args.add(param=\"vv\", \n",
    "         var=\"r\")\n",
    "\n",
    "# Sort data sets by legend value\n",
    "files_list, labels_list = sort_files(paths, args.legend)\n",
    "\n",
    "# Define line colors\n",
    "cmap   = mpl.colormaps[args.cmap]\n",
    "colors = cmap(np.linspace(0.1, 0.9, len(files_list)))\n",
    "\n",
    "# Plot each data set\n",
    "fig = initialize_figure(args.param, args.var)\n",
    "for file, label, color in zip(files_list, labels_list, colors):\n",
    "\n",
    "    plot_correlation(file, label, color, args)"
   ]
  },
  {
   "cell_type": "code",
   "execution_count": 67,
   "metadata": {},
   "outputs": [
    {
     "data": {
      "text/plain": [
       "[<matplotlib.lines.Line2D at 0x7c9823668e90>]"
      ]
     },
     "execution_count": 67,
     "metadata": {},
     "output_type": "execute_result"
    }
   ],
   "source": [
    "plt.plot(fieldcorr.r_array[\"vv\"] / r6, np.ma.mean(fieldcorr.spatial[\"vv\"][mask_density],     axis=0), 'r-.', label=\"field\")\n",
    "plt.plot(cellcorr.r_array[\"vv\"] / r6,  np.ma.mean(cellcorr.spatial[\"vv\"][mask_density[:-1]], axis=0), 'k--', label=\"cell\")\n"
   ]
  },
  {
   "cell_type": "code",
   "execution_count": 68,
   "metadata": {},
   "outputs": [],
   "source": [
    "fig.legend()\n",
    "fig.savefig(\"spatial_correlation_vv.png\")"
   ]
  },
  {
   "cell_type": "code",
   "execution_count": 74,
   "metadata": {},
   "outputs": [
    {
     "name": "stdout",
     "output_type": "stream",
     "text": [
      "State loaded from data/simulated/processed/averages/nodivision_20250919_N30_L64_Lambda100_v0100_taup100.autocorr.\n",
      "State loaded from data/simulated/processed/averages/nodivision_20250919_N30_L64_Lambda100_v0100_taup150.autocorr.\n",
      "State loaded from data/simulated/processed/averages/nodivision_20250919_N30_L64_Lambda100_v0100_taup200.autocorr.\n",
      "State loaded from data/simulated/processed/averages/nodivision_20250919_N30_L64_Lambda100_v0100_taup250.autocorr.\n",
      "State loaded from data/simulated/processed/averages/nodivision_20250919_N30_L64_Lambda100_v0100_taup300.autocorr.\n",
      "State loaded from data/simulated/processed/averages/nodivision_20250919_N30_L64_Lambda100_v0100_taup350.autocorr.\n",
      "State loaded from data/simulated/processed/averages/nodivision_20250919_N30_L64_Lambda100_v0100_taup400.autocorr.\n",
      "State loaded from data/simulated/processed/averages/nodivision_20250919_N30_L64_Lambda100_v0100_taup450.autocorr.\n"
     ]
    }
   ],
   "source": [
    "args.add(param=\"vv\", \n",
    "         var=\"t\")\n",
    "\n",
    "# Sort data sets by legend value\n",
    "files_list, labels_list = sort_files(paths, args.legend)\n",
    "\n",
    "# Define line colors\n",
    "cmap   = mpl.colormaps[args.cmap]\n",
    "colors = cmap(np.linspace(0.1, 0.9, len(files_list)))\n",
    "\n",
    "# Plot each data set\n",
    "fig = initialize_figure(args.param, args.var)\n",
    "for file, label, color in zip(files_list, labels_list, colors):\n",
    "\n",
    "    plot_correlation(file, label, color, args)"
   ]
  },
  {
   "cell_type": "code",
   "execution_count": 78,
   "metadata": {},
   "outputs": [
    {
     "data": {
      "text/plain": [
       "[<matplotlib.lines.Line2D at 0x7c98224787d0>]"
      ]
     },
     "execution_count": 78,
     "metadata": {},
     "output_type": "execute_result"
    }
   ],
   "source": [
    "plt.plot(fieldcorr.t_array[\"vv\"], np.ma.mean(fieldcorr.temporal[\"vv\"][mask_density[:-1]],     axis=0), 'r-.', label=\"field\")\n",
    "plt.plot(cellcorr.t_array[\"vv\"],  np.ma.mean(cellcorr.temporal[\"vv\"][mask_density[:-1]], axis=0), 'k--', label=\"cell\")"
   ]
  },
  {
   "cell_type": "code",
   "execution_count": 79,
   "metadata": {},
   "outputs": [],
   "source": [
    "# plt.xlim(-1, 25)\n",
    "fig.legend()\n",
    "fig.savefig(\"temporal_correlation_vv.png\")"
   ]
  },
  {
   "cell_type": "code",
   "execution_count": 18,
   "metadata": {},
   "outputs": [],
   "source": [
    "for i in range(100):\n",
    "    plt.plot(cellcorr.t_array[\"hh\"],  cellcorr.temporal[\"hh\"][i],  'k-.', label=\"exp, Lagrange\")\n",
    "fig.savefig(\"test.png\")"
   ]
  },
  {
   "cell_type": "code",
   "execution_count": 19,
   "metadata": {},
   "outputs": [],
   "source": [
    "from scipy.optimize import curve_fit\n",
    "\n",
    "plt.plot(fieldcorr.t_array[\"vv\"], np.ma.mean(fieldcorr.temporal[\"vv\"], axis=0), 'r-.', label=\"exp, Euler\")\n",
    "\n",
    "def func(t, A, taup):\n",
    "    return 0.65*np.exp(-t/taup) + A"
   ]
  },
  {
   "cell_type": "code",
   "execution_count": 20,
   "metadata": {},
   "outputs": [
    {
     "data": {
      "text/plain": [
       "(array([ 0.40790916, 10.65904959]),\n",
       " array([[ 7.51198022e-05, -3.93258056e-03],\n",
       "        [-3.93258056e-03,  2.17329724e-01]]))"
      ]
     },
     "execution_count": 20,
     "metadata": {},
     "output_type": "execute_result"
    }
   ],
   "source": [
    "param, pop = curve_fit(func, cellcorr.t_array[\"hh\"][1:25], np.mean(cellcorr.temporal[\"hh\"], axis=0)[1:25], p0=[0.06, 6])\n",
    "param, pop"
   ]
  },
  {
   "cell_type": "code",
   "execution_count": 21,
   "metadata": {},
   "outputs": [
    {
     "data": {
      "text/plain": [
       "[<matplotlib.lines.Line2D at 0x72cb6e13df10>]"
      ]
     },
     "execution_count": 21,
     "metadata": {},
     "output_type": "execute_result"
    }
   ],
   "source": [
    "plt.figure()\n",
    "plt.plot(fieldcorr.t_array[\"vv\"][:25],  np.mean(fieldcorr.temporal[\"vv\"], axis=0)[:25],  'k-.', label=\"exp, Lagrange\")\n",
    "plt.plot(fieldcorr.t_array[\"vv\"], func(fieldcorr.t_array[\"vv\"], *param))\n",
    "plt.plot(fieldcorr.t_array[\"vv\"], func(fieldcorr.t_array[\"vv\"], 0.07, 6))"
   ]
  },
  {
   "cell_type": "code",
   "execution_count": 22,
   "metadata": {},
   "outputs": [],
   "source": [
    "plt.savefig(\"test.png\")"
   ]
  },
  {
   "cell_type": "code",
   "execution_count": null,
   "metadata": {},
   "outputs": [],
   "source": []
  }
 ],
 "metadata": {
  "kernelspec": {
   "display_name": "venv",
   "language": "python",
   "name": "python3"
  },
  "language_info": {
   "codemirror_mode": {
    "name": "ipython",
    "version": 3
   },
   "file_extension": ".py",
   "mimetype": "text/x-python",
   "name": "python",
   "nbconvert_exporter": "python",
   "pygments_lexer": "ipython3",
   "version": "3.12.3"
  }
 },
 "nbformat": 4,
 "nbformat_minor": 2
}
