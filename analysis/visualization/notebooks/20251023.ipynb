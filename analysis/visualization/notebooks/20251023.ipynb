{
 "cells": [
  {
   "cell_type": "code",
   "execution_count": 1,
   "metadata": {},
   "outputs": [],
   "source": [
    "import sys\n",
    "from pathlib import Path\n",
    "\n",
    "import numpy as np\n",
    "import matplotlib as mpl\n",
    "import matplotlib.pyplot as plt\n",
    "\n",
    "sys.path.append(\"analysis/visualization\")\n",
    "from plot_correlations import plot_correlation, sort_files, initialize_figure\n",
    "\n",
    "sys.path.append(\"exe/utils\")\n",
    "from vm_functions import hexagon_side\n",
    "\n",
    "sys.path.append(\"analysis/experimental\")\n",
    "from data_class import AutocorrelationData, SegmentationData"
   ]
  },
  {
   "cell_type": "code",
   "execution_count": 2,
   "metadata": {},
   "outputs": [],
   "source": [
    "class Namespace:\n",
    "    def __init__(self, **kwargs):\n",
    "        self.__dict__.update(kwargs)\n",
    "\n",
    "    def add(self, **kwargs):\n",
    "        self.__dict__.update(kwargs)\n",
    "\n",
    "    def remove(self, key):\n",
    "        del self[key]\n",
    "\n",
    "args = Namespace(legend='taup',\n",
    "                 cmap='plasma',\n",
    "                 outdir=\"results/\",\n",
    "                 xlim=9999,\n",
    "                 ylim=1.1,\n",
    "                 fmt=\"-\")"
   ]
  },
  {
   "cell_type": "code",
   "execution_count": 8,
   "metadata": {},
   "outputs": [
    {
     "name": "stderr",
     "output_type": "stream",
     "text": [
      "/tmp/ipykernel_14756/4281333493.py:3: DeprecationWarning: numpy.core.numeric is deprecated and has been renamed to numpy._core.numeric. The numpy._core namespace contains private NumPy internals and its use is discouraged, as NumPy internals can change without warning in any release. In practice, most real-world usage of numpy.core is to access functionality in the public NumPy API. If that is the case, use the public NumPy API. If not, you are using NumPy internals. If you would still like to access an internal attribute, use numpy._core.numeric._frombuffer.\n",
      "  x = pickle.load(f)\n"
     ]
    }
   ],
   "source": [
    "import pickle\n",
    "with open('../MDCK_QPI_old/data/Holomonitor/MDCK_16.05.2024/A2-7/track_correlations.pkl', 'rb') as f:\n",
    "    x = pickle.load(f)"
   ]
  },
  {
   "cell_type": "code",
   "execution_count": 12,
   "metadata": {},
   "outputs": [],
   "source": [
    "plt.plot(x['C_r_vv'].T)\n",
    "plt.savefig(\"test.png\")"
   ]
  },
  {
   "cell_type": "code",
   "execution_count": 5,
   "metadata": {},
   "outputs": [
    {
     "name": "stdout",
     "output_type": "stream",
     "text": [
      "State loaded from data/experimental/processed/holomonitor_20240516_A2-1/cell_props.p.\n",
      "State loaded from data/experimental/processed/holomonitor_20240516_A2-1/cell_autocorr.p.\n",
      "State loaded from data/experimental/processed/holomonitor_20240516_A2-1/field_autocorr.p.\n"
     ]
    },
    {
     "data": {
      "text/plain": [
       "{'t': {'vv': '2025/09/29_16:42', 'hh': '2025/09/30_22:39'},\n",
       " 'r': {'hh': '2025/09/30_13:53', 'vv': '2025/09/30_13:53'},\n",
       " 't_cell': {'hh': '2025/10/08_20:16'}}"
      ]
     },
     "execution_count": 5,
     "metadata": {},
     "output_type": "execute_result"
    }
   ],
   "source": [
    "# Add experimental data\n",
    "\n",
    "dataset = \"holomonitor_20240516_A2-1\"\n",
    "\n",
    "cellprop = SegmentationData()\n",
    "cellprop.load(f\"data/experimental/processed/{dataset}/cell_props.p\")\n",
    "cellcorr  = AutocorrelationData(f\"data/experimental/processed/{dataset}/cell_autocorr.p\")\n",
    "fieldcorr = AutocorrelationData(f\"data/experimental/processed/{dataset}/field_autocorr.p\")\n",
    "\n",
    "cellcorr.log"
   ]
  },
  {
   "cell_type": "code",
   "execution_count": null,
   "metadata": {},
   "outputs": [
    {
     "name": "stdout",
     "output_type": "stream",
     "text": [
      "State loaded from data/simulated/processed/averages/nodivision_20250919_N30_L64_Lambda100_v0100_taup100.autocorr.\n",
      "State loaded from data/simulated/processed/averages/nodivision_20250919_N30_L64_Lambda100_v0100_taup150.autocorr.\n",
      "State loaded from data/simulated/processed/averages/nodivision_20250919_N30_L64_Lambda100_v0100_taup200.autocorr.\n",
      "State loaded from data/simulated/processed/averages/nodivision_20250919_N30_L64_Lambda100_v0100_taup250.autocorr.\n",
      "State loaded from data/simulated/processed/averages/nodivision_pairdissipation_20251022_N30_L64_Lambda100_v0100_taup300_eta300.autocorr.\n",
      "State loaded from data/simulated/processed/averages/nodivision_pairdissipation_20251022_N30_L64_Lambda100_v0100_taup300_eta400.autocorr.\n",
      "State loaded from data/simulated/processed/averages/nodivision_pairdissipation_20251022_N30_L64_Lambda100_v0100_taup300_eta100.autocorr.\n",
      "State loaded from data/simulated/processed/averages/nodivision_20250919_N30_L64_Lambda100_v0100_taup300.autocorr.\n",
      "State loaded from data/simulated/processed/averages/nodivision_pairdissipation_20251022_N30_L64_Lambda100_v0100_taup300_eta200.autocorr.\n",
      "State loaded from data/simulated/processed/averages/nodivision_pairdissipation_20251022_N30_L64_Lambda100_v0100_taup300_eta50.autocorr.\n",
      "State loaded from data/simulated/processed/averages/nodivision_20250919_N30_L64_Lambda100_v0100_taup350.autocorr.\n",
      "State loaded from data/simulated/processed/averages/nodivision_20250919_N30_L64_Lambda100_v0100_taup400.autocorr.\n",
      "State loaded from data/simulated/processed/averages/nodivision_20250919_N30_L64_Lambda100_v0100_taup450.autocorr.\n"
     ]
    }
   ],
   "source": [
    "# Plot C_h(r)\n",
    "\n",
    "paths = \"data/simulated/processed/averages/nodivision\"\n",
    "\n",
    "args.add(param=\"hh\", \n",
    "         var=\"r\")\n",
    "\n",
    "# Sort data sets by legend value\n",
    "files_list, labels_list = sort_files(paths, args.legend)\n",
    "\n",
    "# Define line colors\n",
    "cmap   = mpl.colormaps[args.cmap]\n",
    "colors = cmap(np.linspace(0.1, 0.9, len(files_list)))\n",
    "\n",
    "# Plot each data set\n",
    "fig = initialize_figure(args.param, args.var)\n",
    "for file, label, color in zip(files_list, labels_list, colors):\n",
    "\n",
    "    plot_correlation(file, label, color, args)"
   ]
  },
  {
   "cell_type": "code",
   "execution_count": 7,
   "metadata": {},
   "outputs": [
    {
     "data": {
      "text/plain": [
       "[<matplotlib.lines.Line2D at 0x7f40875049e0>]"
      ]
     },
     "execution_count": 7,
     "metadata": {},
     "output_type": "execute_result"
    }
   ],
   "source": [
    "V0 = np.mean(cellprop.A * cellprop.h)\n",
    "r6 = hexagon_side(V0)\n",
    "\n",
    "plt.plot(fieldcorr.r_array[\"hh\"] / r6, np.ma.mean(fieldcorr.spatial[\"hh\"], axis=0), 'r-.', label=\"exp, Euler\")\n",
    "plt.plot(cellcorr.r_array[\"hh\"] / r6,  np.ma.mean(cellcorr.spatial[\"hh\"], axis=0),  'k-.', label=\"exp, Lagrange\")"
   ]
  },
  {
   "cell_type": "code",
   "execution_count": 8,
   "metadata": {},
   "outputs": [],
   "source": [
    "fig.legend()\n",
    "fig.savefig(\"spatial_correlation_hh.png\")"
   ]
  },
  {
   "cell_type": "code",
   "execution_count": null,
   "metadata": {},
   "outputs": [
    {
     "name": "stdout",
     "output_type": "stream",
     "text": [
      "State loaded from data/simulated/processed/averages/nodivision_20250919_N30_L64_Lambda100_v0100_taup100.autocorr.\n",
      "State loaded from data/simulated/processed/averages/nodivision_20250919_N30_L64_Lambda100_v0100_taup150.autocorr.\n",
      "State loaded from data/simulated/processed/averages/nodivision_20250919_N30_L64_Lambda100_v0100_taup200.autocorr.\n",
      "State loaded from data/simulated/processed/averages/nodivision_20250919_N30_L64_Lambda100_v0100_taup250.autocorr.\n",
      "State loaded from data/simulated/processed/averages/nodivision_pairdissipation_20251022_N30_L64_Lambda100_v0100_taup300_eta300.autocorr.\n",
      "State loaded from data/simulated/processed/averages/nodivision_pairdissipation_20251022_N30_L64_Lambda100_v0100_taup300_eta400.autocorr.\n",
      "State loaded from data/simulated/processed/averages/nodivision_pairdissipation_20251022_N30_L64_Lambda100_v0100_taup300_eta100.autocorr.\n",
      "State loaded from data/simulated/processed/averages/nodivision_20250919_N30_L64_Lambda100_v0100_taup300.autocorr.\n",
      "State loaded from data/simulated/processed/averages/nodivision_pairdissipation_20251022_N30_L64_Lambda100_v0100_taup300_eta200.autocorr.\n",
      "State loaded from data/simulated/processed/averages/nodivision_pairdissipation_20251022_N30_L64_Lambda100_v0100_taup300_eta50.autocorr.\n",
      "State loaded from data/simulated/processed/averages/nodivision_20250919_N30_L64_Lambda100_v0100_taup350.autocorr.\n",
      "State loaded from data/simulated/processed/averages/nodivision_20250919_N30_L64_Lambda100_v0100_taup400.autocorr.\n",
      "State loaded from data/simulated/processed/averages/nodivision_20250919_N30_L64_Lambda100_v0100_taup450.autocorr.\n"
     ]
    }
   ],
   "source": [
    "# Plot C_h(t)\n",
    "\n",
    "paths = \"data/simulated/processed/averages/nodivision\"\n",
    "\n",
    "args.add(param=\"hh\", \n",
    "         var=\"t\")\n",
    "\n",
    "# Sort data sets by legend value\n",
    "files_list, labels_list = sort_files(paths, args.legend)\n",
    "\n",
    "# Define line colors\n",
    "cmap   = mpl.colormaps[args.cmap]\n",
    "colors = cmap(np.linspace(0.1, 0.9, len(files_list)))\n",
    "\n",
    "# Plot each data set\n",
    "fig = initialize_figure(args.param, args.var)\n",
    "for file, label, color in zip(files_list, labels_list, colors):\n",
    "\n",
    "    plot_correlation(file, label, color, args)"
   ]
  },
  {
   "cell_type": "code",
   "execution_count": 10,
   "metadata": {},
   "outputs": [
    {
     "data": {
      "text/plain": [
       "[<matplotlib.lines.Line2D at 0x7f4087425370>]"
      ]
     },
     "execution_count": 10,
     "metadata": {},
     "output_type": "execute_result"
    }
   ],
   "source": [
    "plt.plot(fieldcorr.t_array[\"hh\"], np.ma.mean(fieldcorr.temporal[\"hh\"], axis=0), 'r-.', label=\"exp, Euler\")\n",
    "plt.plot(cellcorr.t_array[\"hh\"],  np.ma.mean(cellcorr.temporal[\"hh\"], axis=0),  'k-.', label=\"exp, Lagrange\")"
   ]
  },
  {
   "cell_type": "code",
   "execution_count": 11,
   "metadata": {},
   "outputs": [],
   "source": [
    "#plt.xlim(-1, 60)\n",
    "fig.legend()\n",
    "fig.savefig(\"temporal_correlation_hh_A2-1.png\")"
   ]
  },
  {
   "cell_type": "code",
   "execution_count": 14,
   "metadata": {},
   "outputs": [
    {
     "name": "stdout",
     "output_type": "stream",
     "text": [
      "State loaded from data/simulated/processed/averages/nodivision_20250919_N30_L64_Lambda100_v0100_taup100.autocorr.\n",
      "State loaded from data/simulated/processed/averages/nodivision_20250919_N30_L64_Lambda100_v0100_taup150.autocorr.\n",
      "State loaded from data/simulated/processed/averages/nodivision_20250919_N30_L64_Lambda100_v0100_taup200.autocorr.\n",
      "State loaded from data/simulated/processed/averages/nodivision_20250919_N30_L64_Lambda100_v0100_taup250.autocorr.\n",
      "State loaded from data/simulated/processed/averages/nodivision_pairdissipation_20251022_N30_L64_Lambda100_v0100_taup300_eta300.autocorr.\n",
      "State loaded from data/simulated/processed/averages/nodivision_pairdissipation_20251022_N30_L64_Lambda100_v0100_taup300_eta400.autocorr.\n",
      "State loaded from data/simulated/processed/averages/nodivision_pairdissipation_20251022_N30_L64_Lambda100_v0100_taup300_eta100.autocorr.\n",
      "State loaded from data/simulated/processed/averages/nodivision_20250919_N30_L64_Lambda100_v0100_taup300.autocorr.\n",
      "State loaded from data/simulated/processed/averages/nodivision_pairdissipation_20251022_N30_L64_Lambda100_v0100_taup300_eta200.autocorr.\n",
      "State loaded from data/simulated/processed/averages/nodivision_pairdissipation_20251022_N30_L64_Lambda100_v0100_taup300_eta50.autocorr.\n",
      "State loaded from data/simulated/processed/averages/nodivision_20250919_N30_L64_Lambda100_v0100_taup350.autocorr.\n",
      "State loaded from data/simulated/processed/averages/nodivision_20250919_N30_L64_Lambda100_v0100_taup400.autocorr.\n",
      "State loaded from data/simulated/processed/averages/nodivision_20250919_N30_L64_Lambda100_v0100_taup450.autocorr.\n"
     ]
    }
   ],
   "source": [
    "# Plot C_v(r)\n",
    "\n",
    "paths = \"data/simulated/processed/averages/nodivision\"\n",
    "\n",
    "args.add(param=\"vv\", \n",
    "         var=\"r\")\n",
    "\n",
    "# Sort data sets by legend value\n",
    "files_list, labels_list = sort_files(paths, args.legend)\n",
    "\n",
    "# Define line colors\n",
    "cmap   = mpl.colormaps[args.cmap]\n",
    "colors = cmap(np.linspace(0.1, 0.9, len(files_list)))\n",
    "\n",
    "# Plot each data set\n",
    "fig = initialize_figure(args.param, args.var)\n",
    "for file, label, color in zip(files_list, labels_list, colors):\n",
    "\n",
    "    plot_correlation(file, label, color, args)"
   ]
  },
  {
   "cell_type": "code",
   "execution_count": 15,
   "metadata": {},
   "outputs": [
    {
     "data": {
      "text/plain": [
       "[<matplotlib.lines.Line2D at 0x7f408459b410>]"
      ]
     },
     "execution_count": 15,
     "metadata": {},
     "output_type": "execute_result"
    }
   ],
   "source": [
    "plt.plot(fieldcorr.r_array[\"vv\"] / r6, np.ma.mean(fieldcorr.spatial[\"vv\"], axis=0), 'r-.', label=\"exp, Euler\")\n",
    "plt.plot(cellcorr.r_array[\"vv\"] / r6,  np.ma.mean(cellcorr.spatial[\"vv\"], axis=0),  'k-.', label=\"exp, Lagrange\")"
   ]
  },
  {
   "cell_type": "code",
   "execution_count": null,
   "metadata": {},
   "outputs": [],
   "source": [
    "cell"
   ]
  },
  {
   "cell_type": "code",
   "execution_count": 16,
   "metadata": {},
   "outputs": [],
   "source": [
    "fig.legend()\n",
    "fig.savefig(\"spatial_correlation_vv.png\")"
   ]
  },
  {
   "cell_type": "code",
   "execution_count": 31,
   "metadata": {},
   "outputs": [
    {
     "name": "stdout",
     "output_type": "stream",
     "text": [
      "State loaded from data/simulated/processed/averages/nodivision_20250919_N30_L64_Lambda100_v0100_taup100.autocorr.\n",
      "State loaded from data/simulated/processed/averages/nodivision_20250919_N30_L64_Lambda100_v0100_taup150.autocorr.\n",
      "State loaded from data/simulated/processed/averages/nodivision_20250919_N30_L64_Lambda100_v0100_taup200.autocorr.\n",
      "State loaded from data/simulated/processed/averages/nodivision_20250919_N30_L64_Lambda100_v0100_taup250.autocorr.\n",
      "State loaded from data/simulated/processed/averages/nodivision_20250919_N30_L64_Lambda100_v0100_taup300.autocorr.\n",
      "State loaded from data/simulated/processed/averages/nodivision_20250919_N30_L64_Lambda100_v0100_taup350.autocorr.\n",
      "State loaded from data/simulated/processed/averages/nodivision_20250919_N30_L64_Lambda100_v0100_taup400.autocorr.\n",
      "State loaded from data/simulated/processed/averages/nodivision_20250919_N30_L64_Lambda100_v0100_taup450.autocorr.\n"
     ]
    }
   ],
   "source": [
    "paths = \"data/simulated/processed/averages/nodivision\"\n",
    "\n",
    "args.add(param=\"vv\", \n",
    "         var=\"t\")\n",
    "\n",
    "# Sort data sets by legend value\n",
    "files_list, labels_list = sort_files(paths, args.legend)\n",
    "\n",
    "# Define line colors\n",
    "cmap   = mpl.colormaps[args.cmap]\n",
    "colors = cmap(np.linspace(0.1, 0.9, len(files_list)))\n",
    "\n",
    "# Plot each data set\n",
    "fig = initialize_figure(args.param, args.var)\n",
    "for file, label, color in zip(files_list, labels_list, colors):\n",
    "\n",
    "    plot_correlation(file, label, color, args)"
   ]
  },
  {
   "cell_type": "code",
   "execution_count": 32,
   "metadata": {},
   "outputs": [
    {
     "ename": "KeyError",
     "evalue": "'vv'",
     "output_type": "error",
     "traceback": [
      "\u001b[31m---------------------------------------------------------------------------\u001b[39m",
      "\u001b[31mKeyError\u001b[39m                                  Traceback (most recent call last)",
      "\u001b[36mCell\u001b[39m\u001b[36m \u001b[39m\u001b[32mIn[32]\u001b[39m\u001b[32m, line 1\u001b[39m\n\u001b[32m----> \u001b[39m\u001b[32m1\u001b[39m plt.plot(\u001b[43mfieldcorr\u001b[49m\u001b[43m.\u001b[49m\u001b[43mt_array\u001b[49m\u001b[43m[\u001b[49m\u001b[33;43m\"\u001b[39;49m\u001b[33;43mvv\u001b[39;49m\u001b[33;43m\"\u001b[39;49m\u001b[43m]\u001b[49m, np.ma.mean(fieldcorr.temporal[\u001b[33m\"\u001b[39m\u001b[33mvv\u001b[39m\u001b[33m\"\u001b[39m], axis=\u001b[32m0\u001b[39m), \u001b[33m'\u001b[39m\u001b[33mr-.\u001b[39m\u001b[33m'\u001b[39m, label=\u001b[33m\"\u001b[39m\u001b[33mexp, Euler\u001b[39m\u001b[33m\"\u001b[39m)\n\u001b[32m      2\u001b[39m plt.plot(cellcorr.t_array[\u001b[33m\"\u001b[39m\u001b[33mvv\u001b[39m\u001b[33m\"\u001b[39m],  np.ma.mean(cellcorr.temporal[\u001b[33m\"\u001b[39m\u001b[33mvv\u001b[39m\u001b[33m\"\u001b[39m], axis=\u001b[32m0\u001b[39m),  \u001b[33m'\u001b[39m\u001b[33mk-.\u001b[39m\u001b[33m'\u001b[39m, label=\u001b[33m\"\u001b[39m\u001b[33mexp, Lagrange\u001b[39m\u001b[33m\"\u001b[39m)\n",
      "\u001b[31mKeyError\u001b[39m: 'vv'"
     ]
    }
   ],
   "source": [
    "plt.plot(fieldcorr.t_array[\"vv\"], np.ma.mean(fieldcorr.temporal[\"vv\"], axis=0), 'r-.', label=\"exp, Euler\")\n",
    "plt.plot(cellcorr.t_array[\"vv\"],  np.ma.mean(cellcorr.temporal[\"vv\"], axis=0),  'k-.', label=\"exp, Lagrange\")"
   ]
  },
  {
   "cell_type": "code",
   "execution_count": null,
   "metadata": {},
   "outputs": [],
   "source": [
    "# plt.xlim(-1, 25)\n",
    "fig.legend()\n",
    "fig.savefig(\"temporal_correlation_vv.png\")"
   ]
  },
  {
   "cell_type": "code",
   "execution_count": 15,
   "metadata": {},
   "outputs": [],
   "source": [
    "for i in range(100):\n",
    "    plt.plot(cellcorr.t_array[\"hh\"] / 1.5,  cellcorr.temporal[\"hh\"][i],  'k-.', label=\"exp, Lagrange\")\n",
    "fig.savefig(\"test.png\")"
   ]
  },
  {
   "cell_type": "code",
   "execution_count": 109,
   "metadata": {},
   "outputs": [],
   "source": [
    "from scipy.optimize import curve_fit\n",
    "\n",
    "plt.plot(fieldcorr.t_array[\"vv\"] / 3, np.ma.mean(fieldcorr.temporal[\"vv\"], axis=0), 'r-.', label=\"exp, Euler\")\n",
    "\n",
    "def func(t, A, taup):\n",
    "    return 0.65*np.exp(-t/taup) + A"
   ]
  },
  {
   "cell_type": "code",
   "execution_count": 110,
   "metadata": {},
   "outputs": [
    {
     "data": {
      "text/plain": [
       "(array([ 0.40790916, 10.65904959]),\n",
       " array([[ 7.51198022e-05, -3.93258056e-03],\n",
       "        [-3.93258056e-03,  2.17329724e-01]]))"
      ]
     },
     "execution_count": 110,
     "metadata": {},
     "output_type": "execute_result"
    }
   ],
   "source": [
    "param, pop = curve_fit(func, cellcorr.t_array[\"hh\"][1:25], np.mean(cellcorr.temporal[\"hh\"], axis=0)[1:25], p0=[0.06, 6])\n",
    "param, pop"
   ]
  },
  {
   "cell_type": "code",
   "execution_count": 111,
   "metadata": {},
   "outputs": [
    {
     "data": {
      "text/plain": [
       "[<matplotlib.lines.Line2D at 0x74aa081b7320>]"
      ]
     },
     "execution_count": 111,
     "metadata": {},
     "output_type": "execute_result"
    }
   ],
   "source": [
    "plt.figure()\n",
    "plt.plot(fieldcorr.t_array[\"vv\"][:25],  np.mean(fieldcorr.temporal[\"vv\"], axis=0)[:25],  'k-.', label=\"exp, Lagrange\")\n",
    "plt.plot(fieldcorr.t_array[\"vv\"], func(fieldcorr.t_array[\"vv\"], *param))\n",
    "plt.plot(fieldcorr.t_array[\"vv\"], func(fieldcorr.t_array[\"vv\"], 0.07, 6))"
   ]
  },
  {
   "cell_type": "code",
   "execution_count": 112,
   "metadata": {},
   "outputs": [],
   "source": [
    "plt.savefig(\"test.png\")"
   ]
  },
  {
   "cell_type": "code",
   "execution_count": null,
   "metadata": {},
   "outputs": [],
   "source": []
  }
 ],
 "metadata": {
  "kernelspec": {
   "display_name": "venv",
   "language": "python",
   "name": "python3"
  },
  "language_info": {
   "codemirror_mode": {
    "name": "ipython",
    "version": 3
   },
   "file_extension": ".py",
   "mimetype": "text/x-python",
   "name": "python",
   "nbconvert_exporter": "python",
   "pygments_lexer": "ipython3",
   "version": "3.12.3"
  }
 },
 "nbformat": 4,
 "nbformat_minor": 2
}
