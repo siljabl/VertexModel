{
 "cells": [
  {
   "cell_type": "code",
   "execution_count": 38,
   "metadata": {},
   "outputs": [],
   "source": [
    "import sys\n",
    "from pathlib import Path\n",
    "from glob import glob\n",
    "from tqdm import tqdm\n",
    "\n",
    "import numpy as np\n",
    "import matplotlib as mpl\n",
    "import matplotlib.pyplot as plt\n",
    "\n",
    "from cells.bind import getPercentageKeptNeighbours\n",
    "\n",
    "sys.path.append(\"analysis/utils\")\n",
    "import vm_output_handling as vm_output\n",
    "\n",
    "sys.path.append(\"analysis/visualization\")\n",
    "from plot_correlations import plot_correlation, sort_files, initialize_figure\n",
    "\n",
    "sys.path.append(\"exe/utils\")\n",
    "from vm_functions import hexagon_side\n",
    "\n",
    "sys.path.append(\"analysis/experimental\")\n",
    "from data_class import AutocorrelationData, SegmentationData"
   ]
  },
  {
   "cell_type": "code",
   "execution_count": 39,
   "metadata": {},
   "outputs": [
    {
     "name": "stderr",
     "output_type": "stream",
     "text": [
      "100%|██████████| 10/10 [05:41<00:00, 34.16s/it]\n"
     ]
    }
   ],
   "source": [
    "dir_path = \"data/simulated/raw/nodivision_20250919_N30_L64_Lambda100_v0100_taup400/*\"\n",
    "\n",
    "bond_breaking_400 = np.zeros(299)\n",
    "\n",
    "for path in tqdm(glob(dir_path)):\n",
    "    list_vm, init_vm = vm_output.load(path, init_time=50)\n",
    "\n",
    "    for i in range(len(list_vm)):\n",
    "        neighbour_dict = getPercentageKeptNeighbours(list_vm[0], list_vm[i])\n",
    "        bond_breaking_400[i] += np.mean(list(neighbour_dict.values()))"
   ]
  },
  {
   "cell_type": "code",
   "execution_count": 40,
   "metadata": {},
   "outputs": [],
   "source": [
    "fig = plt.figure()\n",
    "plt.plot(bond_breaking_400)\n",
    "plt.savefig(\"Bond_breaking_correlation_400.png\")"
   ]
  },
  {
   "cell_type": "code",
   "execution_count": 13,
   "metadata": {},
   "outputs": [
    {
     "data": {
      "text/plain": [
       "299"
      ]
     },
     "execution_count": 13,
     "metadata": {},
     "output_type": "execute_result"
    }
   ],
   "source": [
    "len(bond_breaking)"
   ]
  },
  {
   "cell_type": "code",
   "execution_count": 36,
   "metadata": {},
   "outputs": [],
   "source": [
    "bond_breaking_100 = bond_breaking"
   ]
  },
  {
   "cell_type": "code",
   "execution_count": null,
   "metadata": {},
   "outputs": [],
   "source": []
  }
 ],
 "metadata": {
  "kernelspec": {
   "display_name": "venv",
   "language": "python",
   "name": "python3"
  },
  "language_info": {
   "codemirror_mode": {
    "name": "ipython",
    "version": 3
   },
   "file_extension": ".py",
   "mimetype": "text/x-python",
   "name": "python",
   "nbconvert_exporter": "python",
   "pygments_lexer": "ipython3",
   "version": "3.12.3"
  }
 },
 "nbformat": 4,
 "nbformat_minor": 2
}
